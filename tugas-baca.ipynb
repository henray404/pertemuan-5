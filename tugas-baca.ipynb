{
 "cells": [
  {
   "cell_type": "code",
   "execution_count": 29,
   "metadata": {},
   "outputs": [
    {
     "data": {
      "text/plain": [
       "78"
      ]
     },
     "execution_count": 29,
     "metadata": {},
     "output_type": "execute_result"
    }
   ],
   "source": [
    "c = [-45, 6, 0, 72, 1543]\n",
    "c[4]\n",
    "len(c)\n",
    "c[2+1]\n",
    "c[3] + c[1]"
   ]
  },
  {
   "cell_type": "code",
   "execution_count": 30,
   "metadata": {},
   "outputs": [
    {
     "name": "stdout",
     "output_type": "stream",
     "text": [
      "[[1, 5, 9, 3, 3], [10, 12, 1, 0, 9], [6, 1, 0, 8, 5], [7, 7, 3, 8, 10], [1, 1, 10, 9, 8]]\n",
      "[<generator object <genexpr> at 0x000002883C2E9FC0>]\n"
     ]
    }
   ],
   "source": [
    "import random \n",
    "a = 5\n",
    "b = 5\n",
    "matrix = []\n",
    "\n",
    "\n",
    "x= random.randint(0, 200)\n",
    "for i in range(a):\n",
    "    first = []\n",
    "    for j in range(b):\n",
    "        first.append(random.randint(0,12))\n",
    "    matrix.append(first)\n",
    "\n",
    "print(matrix)\n",
    "\n",
    "matrix2 = [(random.randint(0,13) for _ in range(a) for _ in range(b))]\n",
    "\n",
    "print(matrix2)"
   ]
  },
  {
   "cell_type": "code",
   "execution_count": 31,
   "metadata": {},
   "outputs": [
    {
     "ename": "ValueError",
     "evalue": "invalid literal for int() with base 10: ''",
     "output_type": "error",
     "traceback": [
      "\u001b[1;31m---------------------------------------------------------------------------\u001b[0m",
      "\u001b[1;31mValueError\u001b[0m                                Traceback (most recent call last)",
      "Cell \u001b[1;32mIn[31], line 1\u001b[0m\n\u001b[1;32m----> 1\u001b[0m height \u001b[38;5;241m=\u001b[39m \u001b[38;5;28;43mint\u001b[39;49m\u001b[43m(\u001b[49m\u001b[38;5;28;43minput\u001b[39;49m\u001b[43m(\u001b[49m\u001b[43m)\u001b[49m\u001b[43m)\u001b[49m\n\u001b[0;32m      2\u001b[0m matrix \u001b[38;5;241m=\u001b[39m []\n\u001b[0;32m      3\u001b[0m matrix2 \u001b[38;5;241m=\u001b[39m []\n",
      "\u001b[1;31mValueError\u001b[0m: invalid literal for int() with base 10: ''"
     ]
    }
   ],
   "source": [
    "height = int(input())\n",
    "matrix = []\n",
    "matrix2 = []\n",
    "\n",
    "\n",
    "for i in range(height):\n",
    "    a = list(map(int, input().split()))\n",
    "    matrix.append(a)\n",
    "\n",
    "for i in range(height):\n",
    "    b = list(map(int, input().split()))\n",
    "    matrix2.append(b)\n",
    "\n",
    "print(matrix)\n",
    "print(matrix2)\n",
    "result = []\n",
    "\n",
    "for x in range(len(matrix)):\n",
    "    row = []\n",
    "    for y in range(len(matrix2[0])):\n",
    "        n = 0\n",
    "        for z in range(len(matrix2)):\n",
    "            n+= matrix[x][z]*matrix2[z][y]\n",
    "        row.append(n)\n",
    "    result.append(row)\n",
    "for r in result:\n",
    "    print(r)\n",
    "\n",
    "\n",
    "\n",
    "\n",
    "\n",
    "\n",
    " "
   ]
  },
  {
   "cell_type": "code",
   "execution_count": 106,
   "metadata": {},
   "outputs": [
    {
     "name": "stdout",
     "output_type": "stream",
     "text": [
      "when i went to the park \n",
      "i recognised, you at a glance\n",
      "face to face, we smiled and\n",
      "i finally. held your hands\n",
      "\n"
     ]
    }
   ],
   "source": [
    "import time\n",
    "\n",
    "\"\"\" for i in (f\"How could my day be bad when I'm with you?\\n\"):\n",
    "    print(i, end=\"\")\n",
    "    time.sleep(0.12)\n",
    "for i in (f\"you're the only one who makes me laugh\\n\"):\n",
    "    print(i, end=\"\")\n",
    "    time.sleep(0.12)\n",
    "time.sleep(0.8)\n",
    "for i in (f\"so, how can my day\\nbe bad? it's the day for you \\n\"):\n",
    "    print(i, end=\"\")\n",
    "    time.sleep(0.12)\n",
    "    if i == \"\\n\":\n",
    "        time.sleep(2.3)\n",
    "    if i == \"?\":\n",
    "        time.sleep(0.9)\n",
    "time.sleep(6)\n",
    "print(\"\\n\")\n",
    "for i in (f\"lately live so boring\\ni've been watching netflix all day long \\n\"):\n",
    "    print(i, end=\"\")\n",
    "    second = 0.15\n",
    "    time.sleep(second)\n",
    "    if i == \"\\n\":\n",
    "        time.sleep(1)\n",
    "        second += 0.02\n",
    "\n",
    "for i in (f\"i thought there would be \\nno thing left to watch \\nso i let myself out\"):\n",
    "    print(i, end=\"\")\n",
    "    second = 0.09\n",
    "    time.sleep(second)\n",
    "    if i == \"\\n\":\n",
    "        time.sleep(0.7)\n",
    "\n",
    "time.sleep(6)\n",
    "print(\"\\n\")\n",
    "\n",
    "for i in (f\"\\nwhen i went to the park \\ni recognised, you at a glance\"):\n",
    "    print(i, end=\"\")\n",
    "    second = 0.2\n",
    "    time.sleep(second)\n",
    "    if i == \"\\n\":\n",
    "        time.sleep(0.5)\n",
    "    if i == ',':\n",
    "        time.sleep(0.9)\n",
    "\n",
    "for i in (f\"\\nface to face, we just smiled \\nwe all ready know that we'll be together (we'll be toghether)\"):\n",
    "    print(i, end=\"\")\n",
    "    second = 0.13\n",
    "    time.sleep(second)\n",
    "    if i == \"\\n\":\n",
    "        time.sleep(0.4)\n",
    "    if i == ',':\n",
    "        time.sleep(0.45)\n",
    "    if i == '(':\n",
    "        time.sleep(0.7)\n",
    "\n",
    "print(\"\\n\")\n",
    "time.sleep(2.8)\n",
    "\n",
    "for i in (f\"How could my day be bad when I'm with you?\\n\"):\n",
    "    print(i, end=\"\")\n",
    "    time.sleep(0.12)\n",
    "for i in (f\"you're the only one who makes me laugh\\n\"):\n",
    "    print(i, end=\"\")\n",
    "    time.sleep(0.12)\n",
    "time.sleep(0.8)\n",
    "for i in (f\"so, how can my day\\nbe bad? it's the day for you \\noh,baby\"):\n",
    "    print(i, end=\"\")\n",
    "    time.sleep(0.12)\n",
    "    if i == \"\\n\":\n",
    "        time.sleep(2.3)\n",
    "    if i == \"?\":\n",
    "        time.sleep(0.9)\n",
    "time.sleep(5)\n",
    "print(\"\\n\")\n",
    "\n",
    "for i in (f\"coffee in the morning, you and the sun\\nthere's a brown hue in your eyes \\n\"):\n",
    "    print(i, end=\"\")\n",
    "    time.sleep(0.12)\n",
    "    if i == \"\\n\":\n",
    "        time.sleep(2)\n",
    "    if i == \",\":\n",
    "        time.sleep(1) \"\"\"\n",
    "\n",
    "\"\"\" for i in (f\"how pretty it is i think im in love\"):\n",
    "    print(i, end=\"\")\n",
    "    time.sleep(0.15)\n",
    "    if i == \"s\":\n",
    "        time.sleep(1)\n",
    "\n",
    "time.sleep(33)\n",
    "print(\"\\n\") \"\"\"\n",
    "\n",
    "for i in (f\"when i went to the park \\ni recognised, you at a glance\"):\n",
    "    print(i, end=\"\")\n",
    "    second = 0.17\n",
    "    time.sleep(second)\n",
    "    if i == \"\\n\":\n",
    "        time.sleep(0.5)\n",
    "    if i == ',':\n",
    "        time.sleep(1.5)\n",
    "time.sleep(0.35)\n",
    "for i in (f\"\\nface to face, we smiled and\\ni finally. held your hands\"):\n",
    "    print(i, end=\"\")\n",
    "    second = 0.13\n",
    "    time.sleep(second)\n",
    "    if i == \"\\n\":\n",
    "        time.sleep(0.4)\n",
    "    if i == ',':\n",
    "        time.sleep(0.45)\n",
    "    if i == '(':\n",
    "        time.sleep(0.7)\n",
    "    if i == '.':\n",
    "        time.sleep(2.5)\n",
    "        second += 0.07\n",
    "    \n",
    "\n",
    "print(\"\\n\")\n",
    "time.sleep(3.5)"
   ]
  },
  {
   "cell_type": "markdown",
   "metadata": {},
   "source": [
    "When I went to the park I recognised you at a glance Face to face, we smiled And I finally held your hands"
   ]
  }
 ],
 "metadata": {
  "kernelspec": {
   "display_name": "base",
   "language": "python",
   "name": "python3"
  },
  "language_info": {
   "codemirror_mode": {
    "name": "ipython",
    "version": 3
   },
   "file_extension": ".py",
   "mimetype": "text/x-python",
   "name": "python",
   "nbconvert_exporter": "python",
   "pygments_lexer": "ipython3",
   "version": "3.10.9"
  }
 },
 "nbformat": 4,
 "nbformat_minor": 2
}
